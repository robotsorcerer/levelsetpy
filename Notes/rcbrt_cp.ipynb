{
 "cells": [
  {
   "cell_type": "code",
   "execution_count": 1,
   "id": "de1112fb-906e-4fb1-95c4-19d33f39c015",
   "metadata": {},
   "outputs": [],
   "source": [
    "import copy\n",
    "import logging\n",
    "import argparse\n",
    "import sys, os\n",
    "import cupy as cp\n",
    "import numpy as np\n",
    "from math import pi\n",
    "import matplotlib.pyplot as plt\n",
    "from os.path import abspath, join, expanduser\n",
    "sys.path.append(abspath(join('../..')))\n",
    "\n",
    "import matplotlib\n",
    "\n",
    "%matplotlib inline\n",
    "\n",
    "import matplotlib as mpl\n",
    "mpl.use('Qt5Agg')\n",
    "import matplotlib.pyplot as plt\n",
    "import matplotlib.gridspec as gridspec\n",
    "from mpl_toolkits.mplot3d.art3d import Poly3DCollection\n",
    "from skimage import measure\n",
    "\n",
    "from LevelSetPy.Grids import createGrid\n",
    "from LevelSetPy.Visualization import *\n",
    "from LevelSetPy.DynamicalSystems import *\n",
    "from LevelSetPy.InitialConditions import shapeCylinder\n",
    "from LevelSetPy.Utilities import *\n",
    "from LevelSetPy.ExplicitIntegration import *\n",
    "from LevelSetPy.SpatialDerivative import *\n",
    "from LevelSetPy.Visualization.value_viz import ValueVisualizer"
   ]
  },
  {
   "cell_type": "code",
   "execution_count": 2,
   "id": "94674805-d86f-4140-8192-e05d6927611d",
   "metadata": {},
   "outputs": [],
   "source": [
    "args = Bundle({'pause_time': 1, 'visualize': True, 'elevation': 5, 'azimuth': 5})"
   ]
  },
  {
   "cell_type": "code",
   "execution_count": 3,
   "id": "e401e0c6-0df3-4376-89e3-cc70cf2a1843",
   "metadata": {},
   "outputs": [],
   "source": [
    "# Grid\n",
    "grid_min = expand(np.array((-.75, -1.25, -pi)), ax = 1)\n",
    "grid_max = expand(np.array((3.25, 1.25, pi)), ax = 1)\n",
    "pdDims = 2                      # 3rd dimension is periodic\n",
    "resolution = 100\n",
    "N = np.array(([[resolution, np.ceil(resolution*(grid_max[1, 0] - grid_min[1, 0])/ \\\n",
    "                (grid_max[0, 0] - grid_min[0, 0])), resolution-1 ]])).T.astype(int)\n",
    "grid_max[2, 0] *= (1-2/N[2])\n",
    "grid = createGrid(grid_min, grid_max, N, pdDims)\n",
    "\n",
    "# value func params\n",
    "axis_align, center, radius = 2, np.zeros((3, 1)), 0.5\n",
    "value_init = shapeCylinder(grid, axis_align, center, radius)\n",
    "\n",
    "u_bound, w_bound = 1, 1\n",
    "drel = DubinsVehicleRel(grid, u_bound, w_bound)"
   ]
  },
  {
   "cell_type": "code",
   "execution_count": 4,
   "id": "02dce032-b227-4001-9fa4-c7c5c5edff4c",
   "metadata": {},
   "outputs": [],
   "source": [
    "small = 100*eps\n",
    "level = 0\n",
    "\n",
    "finite_diff_data = Bundle({'innerFunc': termLaxFriedrichs,\n",
    "                          'innerData':Bundle({'grid': grid, \n",
    "                          'hamFunc': drel.hamiltonian,\n",
    "                          'partialFunc': drel.dissipation,\n",
    "                          'dissFunc': artificialDissipationGLF,\n",
    "                          'CoStateCalc': upwindFirstENO2,\n",
    "                          }),\n",
    "                          'positive': True})\n",
    "\n",
    "options = Bundle(dict(factorCFL=0.95, stats='on', singleStep='off'))\n",
    "integratorOptions = odeCFLset(options)"
   ]
  },
  {
   "cell_type": "code",
   "execution_count": 6,
   "id": "9237fe72-b6d4-431d-82f5-9f6fb0372092",
   "metadata": {},
   "outputs": [
    {
     "ename": "ValueError",
     "evalue": "Input volume should be a 3D numpy array.",
     "output_type": "error",
     "traceback": [
      "\u001b[0;31m---------------------------------------------------------------------------\u001b[0m",
      "\u001b[0;31mValueError\u001b[0m                                Traceback (most recent call last)",
      "\u001b[0;32m/tmp/ipykernel_57111/3386274798.py\u001b[0m in \u001b[0;36m<module>\u001b[0;34m\u001b[0m\n\u001b[1;32m      9\u001b[0m \u001b[0;31m# Visualization paramters\u001b[0m\u001b[0;34m\u001b[0m\u001b[0;34m\u001b[0m\u001b[0;34m\u001b[0m\u001b[0m\n\u001b[1;32m     10\u001b[0m \u001b[0mspacing\u001b[0m \u001b[0;34m=\u001b[0m \u001b[0mtuple\u001b[0m\u001b[0;34m(\u001b[0m\u001b[0mgrid\u001b[0m\u001b[0;34m.\u001b[0m\u001b[0mdx\u001b[0m\u001b[0;34m.\u001b[0m\u001b[0mflatten\u001b[0m\u001b[0;34m(\u001b[0m\u001b[0;34m)\u001b[0m\u001b[0;34m.\u001b[0m\u001b[0mtolist\u001b[0m\u001b[0;34m(\u001b[0m\u001b[0;34m)\u001b[0m\u001b[0;34m)\u001b[0m\u001b[0;34m\u001b[0m\u001b[0;34m\u001b[0m\u001b[0m\n\u001b[0;32m---> 11\u001b[0;31m \u001b[0minit_mesh\u001b[0m \u001b[0;34m=\u001b[0m \u001b[0mimplicit_mesh\u001b[0m\u001b[0;34m(\u001b[0m\u001b[0mvalue_init\u001b[0m\u001b[0;34m,\u001b[0m \u001b[0mlevel\u001b[0m\u001b[0;34m=\u001b[0m\u001b[0;36m0\u001b[0m\u001b[0;34m,\u001b[0m \u001b[0mspacing\u001b[0m\u001b[0;34m=\u001b[0m\u001b[0mspacing\u001b[0m\u001b[0;34m,\u001b[0m \u001b[0medge_color\u001b[0m\u001b[0;34m=\u001b[0m\u001b[0;34m'b'\u001b[0m\u001b[0;34m,\u001b[0m \u001b[0mface_color\u001b[0m\u001b[0;34m=\u001b[0m\u001b[0;34m'b'\u001b[0m\u001b[0;34m)\u001b[0m\u001b[0;34m\u001b[0m\u001b[0;34m\u001b[0m\u001b[0m\n\u001b[0m\u001b[1;32m     12\u001b[0m \u001b[0;34m\u001b[0m\u001b[0m\n\u001b[1;32m     13\u001b[0m \u001b[0mvalue_init\u001b[0m \u001b[0;34m=\u001b[0m \u001b[0mcp\u001b[0m\u001b[0;34m.\u001b[0m\u001b[0masarray\u001b[0m\u001b[0;34m(\u001b[0m\u001b[0mvalue_init\u001b[0m\u001b[0;34m)\u001b[0m\u001b[0;34m\u001b[0m\u001b[0;34m\u001b[0m\u001b[0m\n",
      "\u001b[0;32m~/Documents/ML-Control-Rob/LevelSets/LevelSetPy/Visualization/mesh_implicit.py\u001b[0m in \u001b[0;36mimplicit_mesh\u001b[0;34m(surface, level, spacing, gd, edge_color, face_color)\u001b[0m\n\u001b[1;32m     45\u001b[0m     \"\"\"\n\u001b[1;32m     46\u001b[0m     \u001b[0;31m# Use marching cubes to obtain the surface mesh of the implicit function\u001b[0m\u001b[0;34m\u001b[0m\u001b[0;34m\u001b[0m\u001b[0;34m\u001b[0m\u001b[0m\n\u001b[0;32m---> 47\u001b[0;31m     \u001b[0mverts\u001b[0m\u001b[0;34m,\u001b[0m \u001b[0mfaces\u001b[0m\u001b[0;34m,\u001b[0m \u001b[0mnormals\u001b[0m\u001b[0;34m,\u001b[0m \u001b[0mvalues\u001b[0m \u001b[0;34m=\u001b[0m \u001b[0mmeasure\u001b[0m\u001b[0;34m.\u001b[0m\u001b[0mmarching_cubes\u001b[0m\u001b[0;34m(\u001b[0m\u001b[0msurface\u001b[0m\u001b[0;34m,\u001b[0m \u001b[0mlevel\u001b[0m\u001b[0;34m=\u001b[0m\u001b[0mlevel\u001b[0m\u001b[0;34m,\u001b[0m \u001b[0mspacing\u001b[0m\u001b[0;34m=\u001b[0m\u001b[0mspacing\u001b[0m\u001b[0;34m,\u001b[0m \u001b[0mgradient_direction\u001b[0m\u001b[0;34m=\u001b[0m\u001b[0mgd\u001b[0m\u001b[0;34m)\u001b[0m\u001b[0;34m\u001b[0m\u001b[0;34m\u001b[0m\u001b[0m\n\u001b[0m\u001b[1;32m     48\u001b[0m \u001b[0;34m\u001b[0m\u001b[0m\n\u001b[1;32m     49\u001b[0m     \u001b[0;31m# Fancy indexing: `verts[faces]` to generate a collection of triangles\u001b[0m\u001b[0;34m\u001b[0m\u001b[0;34m\u001b[0m\u001b[0;34m\u001b[0m\u001b[0m\n",
      "\u001b[0;32m~/anaconda3/envs/38/lib/python3.8/site-packages/skimage/measure/_marching_cubes_lewiner.py\u001b[0m in \u001b[0;36mmarching_cubes\u001b[0;34m(volume, level, spacing, gradient_direction, step_size, allow_degenerate, method, mask)\u001b[0m\n\u001b[1;32m    131\u001b[0m \u001b[0;34m\u001b[0m\u001b[0m\n\u001b[1;32m    132\u001b[0m     \u001b[0;32mif\u001b[0m \u001b[0mmethod\u001b[0m \u001b[0;34m==\u001b[0m \u001b[0;34m'lewiner'\u001b[0m\u001b[0;34m:\u001b[0m\u001b[0;34m\u001b[0m\u001b[0;34m\u001b[0m\u001b[0m\n\u001b[0;32m--> 133\u001b[0;31m         return _marching_cubes_lewiner(volume, level, spacing,\n\u001b[0m\u001b[1;32m    134\u001b[0m                                        \u001b[0mgradient_direction\u001b[0m\u001b[0;34m,\u001b[0m \u001b[0mstep_size\u001b[0m\u001b[0;34m,\u001b[0m\u001b[0;34m\u001b[0m\u001b[0;34m\u001b[0m\u001b[0m\n\u001b[1;32m    135\u001b[0m                                        \u001b[0mallow_degenerate\u001b[0m\u001b[0;34m,\u001b[0m \u001b[0muse_classic\u001b[0m\u001b[0;34m=\u001b[0m\u001b[0;32mFalse\u001b[0m\u001b[0;34m,\u001b[0m\u001b[0;34m\u001b[0m\u001b[0;34m\u001b[0m\u001b[0m\n",
      "\u001b[0;32m~/anaconda3/envs/38/lib/python3.8/site-packages/skimage/measure/_marching_cubes_lewiner.py\u001b[0m in \u001b[0;36m_marching_cubes_lewiner\u001b[0;34m(volume, level, spacing, gradient_direction, step_size, allow_degenerate, use_classic, mask)\u001b[0m\n\u001b[1;32m    162\u001b[0m     \u001b[0;31m# Check volume and ensure its in the format that the alg needs\u001b[0m\u001b[0;34m\u001b[0m\u001b[0;34m\u001b[0m\u001b[0;34m\u001b[0m\u001b[0m\n\u001b[1;32m    163\u001b[0m     \u001b[0;32mif\u001b[0m \u001b[0;32mnot\u001b[0m \u001b[0misinstance\u001b[0m\u001b[0;34m(\u001b[0m\u001b[0mvolume\u001b[0m\u001b[0;34m,\u001b[0m \u001b[0mnp\u001b[0m\u001b[0;34m.\u001b[0m\u001b[0mndarray\u001b[0m\u001b[0;34m)\u001b[0m \u001b[0;32mor\u001b[0m \u001b[0;34m(\u001b[0m\u001b[0mvolume\u001b[0m\u001b[0;34m.\u001b[0m\u001b[0mndim\u001b[0m \u001b[0;34m!=\u001b[0m \u001b[0;36m3\u001b[0m\u001b[0;34m)\u001b[0m\u001b[0;34m:\u001b[0m\u001b[0;34m\u001b[0m\u001b[0;34m\u001b[0m\u001b[0m\n\u001b[0;32m--> 164\u001b[0;31m         \u001b[0;32mraise\u001b[0m \u001b[0mValueError\u001b[0m\u001b[0;34m(\u001b[0m\u001b[0;34m'Input volume should be a 3D numpy array.'\u001b[0m\u001b[0;34m)\u001b[0m\u001b[0;34m\u001b[0m\u001b[0;34m\u001b[0m\u001b[0m\n\u001b[0m\u001b[1;32m    165\u001b[0m     \u001b[0;32mif\u001b[0m \u001b[0mvolume\u001b[0m\u001b[0;34m.\u001b[0m\u001b[0mshape\u001b[0m\u001b[0;34m[\u001b[0m\u001b[0;36m0\u001b[0m\u001b[0;34m]\u001b[0m \u001b[0;34m<\u001b[0m \u001b[0;36m2\u001b[0m \u001b[0;32mor\u001b[0m \u001b[0mvolume\u001b[0m\u001b[0;34m.\u001b[0m\u001b[0mshape\u001b[0m\u001b[0;34m[\u001b[0m\u001b[0;36m1\u001b[0m\u001b[0;34m]\u001b[0m \u001b[0;34m<\u001b[0m \u001b[0;36m2\u001b[0m \u001b[0;32mor\u001b[0m \u001b[0mvolume\u001b[0m\u001b[0;34m.\u001b[0m\u001b[0mshape\u001b[0m\u001b[0;34m[\u001b[0m\u001b[0;36m2\u001b[0m\u001b[0;34m]\u001b[0m \u001b[0;34m<\u001b[0m \u001b[0;36m2\u001b[0m\u001b[0;34m:\u001b[0m\u001b[0;34m\u001b[0m\u001b[0;34m\u001b[0m\u001b[0m\n\u001b[1;32m    166\u001b[0m         \u001b[0;32mraise\u001b[0m \u001b[0mValueError\u001b[0m\u001b[0;34m(\u001b[0m\u001b[0;34m\"Input array must be at least 2x2x2.\"\u001b[0m\u001b[0;34m)\u001b[0m\u001b[0;34m\u001b[0m\u001b[0;34m\u001b[0m\u001b[0m\n",
      "\u001b[0;31mValueError\u001b[0m: Input volume should be a 3D numpy array."
     ]
    },
    {
     "ename": "",
     "evalue": "",
     "output_type": "error",
     "traceback": [
      "\u001b[1;31mThe Kernel crashed while executing code in the the current cell or a previous cell. Please review the code in the cell(s) to identify a possible cause of the failure. Click <a href='https://aka.ms/vscodeJupyterKernelCrash'>here</a> for more info. View Jupyter <a href='command:jupyter.viewOutput'>log</a> for further details."
     ]
    }
   ],
   "source": [
    "\n",
    "# Period at which intermediate plots should be produced.\n",
    "num_steps = 11\n",
    "time_interval = [0, 2.5]\n",
    "t_plot = (time_interval[1] - time_interval[0]) / (num_steps - 1)\n",
    "# Loop through time_interval (subject to a little roundoff).\n",
    "t_now = time_interval[0]\n",
    "start_time = cputime()\n",
    "\n",
    "# Visualization paramters\n",
    "spacing = tuple(grid.dx.flatten().tolist())\n",
    "init_mesh = implicit_mesh(value_init, level=0, spacing=spacing, edge_color='b', face_color='b')\n",
    "\n",
    "value_init = cp.asarray(value_init)\n",
    "params = Bundle(\n",
    "        {\"grid\": grid,\n",
    "         'disp': False,\n",
    "         'labelsize': 16,\n",
    "         'labels': \"Initial 0-LevelSet\",\n",
    "         'linewidth': 2,\n",
    "         'data': value_init,\n",
    "         'elevation': args.elevation,\n",
    "         'azimuth': args.azimuth,\n",
    "         'mesh': init_mesh,\n",
    "         'init_conditions': False,\n",
    "         'pause_time': args.pause_time,\n",
    "         'level': 0, # which level set to visualize\n",
    "         'winsize': (16,9),\n",
    "         'fontdict': Bundle({'fontsize':12, 'fontweight':'bold'}),\n",
    "         \"savedict\": Bundle({\"save\": False,\n",
    "                        \"savename\": \"rcbrt\",\n",
    "                        \"savepath\": \"/opt/LevPy/Dubins\"})\n",
    "         })\n",
    "\n",
    "if args.visualize:\n",
    "    rcbrt_viz = RCBRTVisualizer(params=params)"
   ]
  },
  {
   "cell_type": "code",
   "execution_count": 10,
   "id": "9626531e-7a32-4a7b-b748-f2e2d50dfebe",
   "metadata": {},
   "outputs": [
    {
     "ename": "AttributeError",
     "evalue": "'DubinsVehicleRel' object has no attribute 'v_e'",
     "output_type": "error",
     "traceback": [
      "\u001b[0;31m---------------------------------------------------------------------------\u001b[0m",
      "\u001b[0;31mAttributeError\u001b[0m                            Traceback (most recent call last)",
      "\u001b[0;32m/tmp/ipykernel_50818/2138819745.py\u001b[0m in \u001b[0;36m<module>\u001b[0;34m\u001b[0m\n\u001b[1;32m     10\u001b[0m \u001b[0;34m\u001b[0m\u001b[0m\n\u001b[1;32m     11\u001b[0m     \u001b[0;31m# Take a timestep.\u001b[0m\u001b[0;34m\u001b[0m\u001b[0;34m\u001b[0m\u001b[0;34m\u001b[0m\u001b[0m\n\u001b[0;32m---> 12\u001b[0;31m     \u001b[0mt\u001b[0m\u001b[0;34m,\u001b[0m \u001b[0my\u001b[0m\u001b[0;34m,\u001b[0m \u001b[0m_\u001b[0m \u001b[0;34m=\u001b[0m \u001b[0modeCFL2\u001b[0m\u001b[0;34m(\u001b[0m\u001b[0mtermRestrictUpdate\u001b[0m\u001b[0;34m,\u001b[0m \u001b[0mt_span\u001b[0m\u001b[0;34m,\u001b[0m \u001b[0my0\u001b[0m\u001b[0;34m,\u001b[0m \u001b[0mintegratorOptions\u001b[0m\u001b[0;34m,\u001b[0m \u001b[0mfinite_diff_data\u001b[0m\u001b[0;34m)\u001b[0m\u001b[0;34m\u001b[0m\u001b[0;34m\u001b[0m\u001b[0m\n\u001b[0m\u001b[1;32m     13\u001b[0m     \u001b[0mt_now\u001b[0m \u001b[0;34m=\u001b[0m \u001b[0mt\u001b[0m\u001b[0;34m\u001b[0m\u001b[0;34m\u001b[0m\u001b[0m\n\u001b[1;32m     14\u001b[0m \u001b[0;34m\u001b[0m\u001b[0m\n",
      "\u001b[0;32m~/Documents/ML-Control-Rob/LevelSets/LevelSetPy/ExplicitIntegration/Integration/ode_cfl_2.py\u001b[0m in \u001b[0;36modeCFL2\u001b[0;34m(schemeFunc, tspan, y0, options, schemeData)\u001b[0m\n\u001b[1;32m    122\u001b[0m             \u001b[0;34m\" First substep: Forward Euler from t_n to t_{n+1}. Approximate the derivative and CFL restriction.\"\u001b[0m\u001b[0;34m\u001b[0m\u001b[0;34m\u001b[0m\u001b[0m\n\u001b[1;32m    123\u001b[0m             \u001b[0;32mfor\u001b[0m \u001b[0mi\u001b[0m \u001b[0;32min\u001b[0m \u001b[0mrange\u001b[0m\u001b[0;34m(\u001b[0m\u001b[0mnumY\u001b[0m\u001b[0;34m)\u001b[0m\u001b[0;34m:\u001b[0m\u001b[0;34m\u001b[0m\u001b[0;34m\u001b[0m\u001b[0m\n\u001b[0;32m--> 124\u001b[0;31m                 \u001b[0mydot\u001b[0m\u001b[0;34m[\u001b[0m\u001b[0mi\u001b[0m\u001b[0;34m]\u001b[0m\u001b[0;34m,\u001b[0m \u001b[0mstepBound\u001b[0m\u001b[0;34m[\u001b[0m\u001b[0mi\u001b[0m\u001b[0;34m]\u001b[0m\u001b[0;34m,\u001b[0m \u001b[0mschemeData\u001b[0m \u001b[0;34m=\u001b[0m \u001b[0mschemeFuncCell\u001b[0m\u001b[0;34m[\u001b[0m\u001b[0mi\u001b[0m\u001b[0;34m]\u001b[0m\u001b[0;34m(\u001b[0m\u001b[0mt\u001b[0m\u001b[0;34m,\u001b[0m \u001b[0my\u001b[0m\u001b[0;34m,\u001b[0m \u001b[0mschemeData\u001b[0m\u001b[0;34m)\u001b[0m\u001b[0;34m\u001b[0m\u001b[0;34m\u001b[0m\u001b[0m\n\u001b[0m\u001b[1;32m    125\u001b[0m \u001b[0;34m\u001b[0m\u001b[0m\n\u001b[1;32m    126\u001b[0m                 \u001b[0;31m# If this is a vector level set, rotate the lists of vector arguments.\u001b[0m\u001b[0;34m\u001b[0m\u001b[0;34m\u001b[0m\u001b[0;34m\u001b[0m\u001b[0m\n",
      "\u001b[0;32m~/Documents/ML-Control-Rob/LevelSets/LevelSetPy/ExplicitIntegration/Term/term_restrict_update.py\u001b[0m in \u001b[0;36mtermRestrictUpdate\u001b[0;34m(t, y, schemeData)\u001b[0m\n\u001b[1;32m     81\u001b[0m \u001b[0;34m\u001b[0m\u001b[0m\n\u001b[1;32m     82\u001b[0m     \u001b[0;31m#Get the unrestricted update. # this is usually termLaxFriedrichs\u001b[0m\u001b[0;34m\u001b[0m\u001b[0;34m\u001b[0m\u001b[0;34m\u001b[0m\u001b[0m\n\u001b[0;32m---> 83\u001b[0;31m     \u001b[0munRestricted\u001b[0m\u001b[0;34m,\u001b[0m \u001b[0mstepBound\u001b[0m\u001b[0;34m,\u001b[0m \u001b[0minnerData\u001b[0m \u001b[0;34m=\u001b[0m \u001b[0mthisSchemeData\u001b[0m\u001b[0;34m.\u001b[0m\u001b[0minnerFunc\u001b[0m\u001b[0;34m(\u001b[0m\u001b[0mt\u001b[0m\u001b[0;34m,\u001b[0m \u001b[0my\u001b[0m\u001b[0;34m,\u001b[0m \u001b[0minnerData\u001b[0m\u001b[0;34m)\u001b[0m\u001b[0;34m\u001b[0m\u001b[0;34m\u001b[0m\u001b[0m\n\u001b[0m\u001b[1;32m     84\u001b[0m \u001b[0;34m\u001b[0m\u001b[0m\n\u001b[1;32m     85\u001b[0m     \u001b[0;31m#Store any modifications of the inner data structure.\u001b[0m\u001b[0;34m\u001b[0m\u001b[0;34m\u001b[0m\u001b[0;34m\u001b[0m\u001b[0m\n",
      "\u001b[0;32m~/Documents/ML-Control-Rob/LevelSets/LevelSetPy/ExplicitIntegration/Term/term_lax_friedrich.py\u001b[0m in \u001b[0;36mtermLaxFriedrichs\u001b[0;34m(t, y, schemeData)\u001b[0m\n\u001b[1;32m    117\u001b[0m \u001b[0;34m\u001b[0m\u001b[0m\n\u001b[1;32m    118\u001b[0m     \u001b[0;31m# Analytic Hamiltonian with centered difference derivatives.\u001b[0m\u001b[0;34m\u001b[0m\u001b[0;34m\u001b[0m\u001b[0;34m\u001b[0m\u001b[0m\n\u001b[0;32m--> 119\u001b[0;31m     \u001b[0mresult\u001b[0m \u001b[0;34m=\u001b[0m \u001b[0mthisSchemeData\u001b[0m\u001b[0;34m.\u001b[0m\u001b[0mhamFunc\u001b[0m\u001b[0;34m(\u001b[0m\u001b[0mt\u001b[0m\u001b[0;34m,\u001b[0m \u001b[0mdata\u001b[0m\u001b[0;34m,\u001b[0m \u001b[0mderivC\u001b[0m\u001b[0;34m,\u001b[0m \u001b[0mthisSchemeData\u001b[0m\u001b[0;34m)\u001b[0m\u001b[0;34m\u001b[0m\u001b[0;34m\u001b[0m\u001b[0m\n\u001b[0m\u001b[1;32m    120\u001b[0m     \u001b[0;32mif\u001b[0m \u001b[0misinstance\u001b[0m\u001b[0;34m(\u001b[0m\u001b[0mresult\u001b[0m\u001b[0;34m,\u001b[0m \u001b[0mtuple\u001b[0m\u001b[0;34m)\u001b[0m\u001b[0;34m:\u001b[0m\u001b[0;34m\u001b[0m\u001b[0;34m\u001b[0m\u001b[0m\n\u001b[1;32m    121\u001b[0m         \u001b[0mham\u001b[0m\u001b[0;34m,\u001b[0m \u001b[0mthisSchemeData\u001b[0m \u001b[0;34m=\u001b[0m \u001b[0mresult\u001b[0m\u001b[0;34m\u001b[0m\u001b[0;34m\u001b[0m\u001b[0m\n",
      "\u001b[0;32m~/Documents/ML-Control-Rob/LevelSets/LevelSetPy/DynamicalSystems/dubins_relative.py\u001b[0m in \u001b[0;36mhamiltonian\u001b[0;34m(self, t, data, value_derivs, finite_diff_bundle)\u001b[0m\n\u001b[1;32m     88\u001b[0m                     \u001b[0;34m.\u001b[0m\u001b[0minnerFunc\u001b[0m\u001b[0;34m:\u001b[0m \u001b[0mterminal\u001b[0m \u001b[0mLax\u001b[0m \u001b[0mFriedrichs\u001b[0m \u001b[0mintegration\u001b[0m \u001b[0mscheme\u001b[0m\u001b[0;34m.\u001b[0m\u001b[0;34m\u001b[0m\u001b[0;34m\u001b[0m\u001b[0m\n\u001b[1;32m     89\u001b[0m         \"\"\"\n\u001b[0;32m---> 90\u001b[0;31m         \u001b[0mp1\u001b[0m\u001b[0;34m,\u001b[0m \u001b[0mp2\u001b[0m\u001b[0;34m,\u001b[0m \u001b[0mp3\u001b[0m  \u001b[0;34m=\u001b[0m \u001b[0mvalue_derivs\u001b[0m\u001b[0;34m[\u001b[0m\u001b[0;36m0\u001b[0m\u001b[0;34m]\u001b[0m\u001b[0;34m,\u001b[0m \u001b[0mvalue_derivs\u001b[0m\u001b[0;34m[\u001b[0m\u001b[0;36m1\u001b[0m\u001b[0;34m]\u001b[0m\u001b[0;34m,\u001b[0m \u001b[0mvalue_derivs\u001b[0m\u001b[0;34m[\u001b[0m\u001b[0;36m2\u001b[0m\u001b[0;34m]\u001b[0m\u001b[0;34m\u001b[0m\u001b[0;34m\u001b[0m\u001b[0m\n\u001b[0m\u001b[1;32m     91\u001b[0m         \u001b[0mp1_coeff\u001b[0m    \u001b[0;34m=\u001b[0m \u001b[0mself\u001b[0m\u001b[0;34m.\u001b[0m\u001b[0mv_e\u001b[0m \u001b[0;34m-\u001b[0m \u001b[0mself\u001b[0m\u001b[0;34m.\u001b[0m\u001b[0mv_p\u001b[0m \u001b[0;34m*\u001b[0m \u001b[0mcp\u001b[0m\u001b[0;34m.\u001b[0m\u001b[0mcos\u001b[0m\u001b[0;34m(\u001b[0m\u001b[0mself\u001b[0m\u001b[0;34m.\u001b[0m\u001b[0mgrid\u001b[0m\u001b[0;34m.\u001b[0m\u001b[0mxs\u001b[0m\u001b[0;34m[\u001b[0m\u001b[0;36m2\u001b[0m\u001b[0;34m]\u001b[0m\u001b[0;34m)\u001b[0m\u001b[0;34m\u001b[0m\u001b[0;34m\u001b[0m\u001b[0m\n\u001b[1;32m     92\u001b[0m         \u001b[0mp2_coeff\u001b[0m    \u001b[0;34m=\u001b[0m \u001b[0mself\u001b[0m\u001b[0;34m.\u001b[0m\u001b[0mv_p\u001b[0m \u001b[0;34m*\u001b[0m \u001b[0mcp\u001b[0m\u001b[0;34m.\u001b[0m\u001b[0msin\u001b[0m\u001b[0;34m(\u001b[0m\u001b[0mself\u001b[0m\u001b[0;34m.\u001b[0m\u001b[0mgrid\u001b[0m\u001b[0;34m.\u001b[0m\u001b[0mxs\u001b[0m\u001b[0;34m[\u001b[0m\u001b[0;36m2\u001b[0m\u001b[0;34m]\u001b[0m\u001b[0;34m)\u001b[0m\u001b[0;34m\u001b[0m\u001b[0;34m\u001b[0m\u001b[0m\n",
      "\u001b[0;31mAttributeError\u001b[0m: 'DubinsVehicleRel' object has no attribute 'v_e'"
     ]
    }
   ],
   "source": [
    "while(time_interval[1] - t_now > small * time_interval[1]):\n",
    "\n",
    "    time_step = f\"{t_now}/{time_interval[-1]}\"\n",
    "\n",
    "    # Reshape data array into column vector for ode solver call.\n",
    "    y0 = value_init.flatten()\n",
    "\n",
    "    # How far to step?\n",
    "    t_span = np.hstack([ t_now, min(time_interval[1], t_now + t_plot) ])\n",
    "\n",
    "    # Take a timestep.\n",
    "    t, y, _ = odeCFL2(termRestrictUpdate, t_span, y0, integratorOptions, finite_diff_data)\n",
    "    t_now = t\n",
    "\n",
    "    info(f't: {t:.3f}/{time_interval[-1]} TargSet Min: {min(y):.3f}, TargSet Max: {max(y):.3f} TargSet Norm: {np.linalg.norm(y)}')\n",
    "\n",
    "    # Get back the correctly shaped data array\n",
    "    data = np.reshape(y, grid.shape)\n",
    "\n",
    "    mesh=implicit_mesh(data, level=0, spacing=spacing,  edge_color='None', face_color='red')\n",
    "\n",
    "    if args.visualize:\n",
    "        rcbrt_viz.update_tube(data, mesh, time_step)\n",
    "\n",
    "end_time = cputime()\n",
    "info(f'Total execution time {end_time - start_time} seconds.')\n"
   ]
  },
  {
   "cell_type": "code",
   "execution_count": null,
   "id": "6c5f4885",
   "metadata": {},
   "outputs": [],
   "source": []
  }
 ],
 "metadata": {
  "kernelspec": {
   "display_name": "Python 3.8.12 ('38')",
   "language": "python",
   "name": "python3"
  },
  "language_info": {
   "codemirror_mode": {
    "name": "ipython",
    "version": 3
   },
   "file_extension": ".py",
   "mimetype": "text/x-python",
   "name": "python",
   "nbconvert_exporter": "python",
   "pygments_lexer": "ipython3",
   "version": "3.8.12"
  },
  "vscode": {
   "interpreter": {
    "hash": "e8e58a6e0c964839778b0e18417b8a4cb326d0bc3073c19d6809a75219147292"
   }
  }
 },
 "nbformat": 4,
 "nbformat_minor": 5
}
