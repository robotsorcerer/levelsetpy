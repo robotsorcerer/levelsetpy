{
 "cells": [
  {
   "cell_type": "code",
   "execution_count": 1,
   "id": "6d6a366f-3cdd-434e-acc6-a0f9a9e92139",
   "metadata": {},
   "outputs": [],
   "source": [
    "import copy\n",
    "import numpy as np.n",
    "import matplotlib.pyplot as plt"
   ]
  },
  {
   "cell_type": "code",
   "execution_count": 5,
   "id": "95a0d786-3f1f-496a-b065-3c346ab18031",
   "metadata": {},
   "outputs": [
    {
     "data": {
      "text/plain": [
       "2"
      ]
     },
     "execution_count": 5,
     "metadata": {},
     "output_type": "execute_result"
    }
   ],
   "source": [
    "a = np.arange(6).reshape(3,2)\n",
    "a.ndim"
   ]
  },
  {
   "cell_type": "code",
   "execution_count": 3,
   "id": "d9769d06-0e62-47db-ab78-42182a31bb87",
   "metadata": {},
   "outputs": [
    {
     "data": {
      "text/plain": [
       "\"Shallow copy operation on arbitrary Python objects.\\n\\n    See the module's __doc__ string for more info.\\n    \""
      ]
     },
     "execution_count": 3,
     "metadata": {},
     "output_type": "execute_result"
    }
   ],
   "source": [
    "copy.copy.__doc__"
   ]
  },
  {
   "cell_type": "code",
   "execution_count": null,
   "id": "0a97abea-c294-446c-8c0f-c6f67843f418",
   "metadata": {},
   "outputs": [],
   "source": []
  }
 ],
 "metadata": {
  "kernelspec": {
   "display_name": "Python 3",
   "language": "python",
   "name": "python3"
  },
  "language_info": {
   "codemirror_mode": {
    "name": "ipython",
    "version": 3
   },
   "file_extension": ".py",
   "mimetype": "text/x-python",
   "name": "python",
   "nbconvert_exporter": "python",
   "pygments_lexer": "ipython3",
   "version": "3.7.10"
  }
 },
 "nbformat": 4,
 "nbformat_minor": 5
}
